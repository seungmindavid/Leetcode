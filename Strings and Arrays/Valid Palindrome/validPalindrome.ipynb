{
 "cells": [
  {
   "cell_type": "markdown",
   "metadata": {},
   "source": [
    "### Solution 1: Runtime: 39ms, Memory Usage: 17.3MB"
   ]
  },
  {
   "cell_type": "code",
   "execution_count": 30,
   "metadata": {},
   "outputs": [],
   "source": [
    "class Solution:\n",
    "    def isPalindrome(self, s: str) -> bool:\n",
    "        # Removing non-alphanumeric characters\n",
    "        s = filter(lambda x: x.isalnum(), s)\n",
    "        s = \"\".join(s)\n",
    "        \n",
    "        # Converting uppercase letters to lowercase letters\n",
    "        s = s.lower()\n",
    "        \n",
    "        # Create reversed string (Memory usage O(n))\n",
    "        r = s[::-1]\n",
    "        \n",
    "        # Time complexity: O(n/2) => O(n)\n",
    "        for i in range(0, len(s)//2):\n",
    "            if r[i] != s[i]:\n",
    "                return False\n",
    "\n",
    "        return True\n"
   ]
  },
  {
   "cell_type": "markdown",
   "metadata": {},
   "source": []
  },
  {
   "cell_type": "code",
   "execution_count": 31,
   "metadata": {},
   "outputs": [
    {
     "name": "stdout",
     "output_type": "stream",
     "text": [
      "True\n"
     ]
    }
   ],
   "source": [
    "sol = Solution()\n",
    "s = \"A man, a plan, a canal: Panama\"\n",
    "ans = sol.isPalindrome(s)\n",
    "print(ans)"
   ]
  },
  {
   "cell_type": "code",
   "execution_count": 32,
   "metadata": {},
   "outputs": [
    {
     "name": "stdout",
     "output_type": "stream",
     "text": [
      "False\n"
     ]
    }
   ],
   "source": [
    "s = \"race a car\"\n",
    "ans = sol.isPalindrome(s)\n",
    "print(ans)"
   ]
  }
 ],
 "metadata": {
  "kernelspec": {
   "display_name": "Python 3",
   "language": "python",
   "name": "python3"
  },
  "language_info": {
   "codemirror_mode": {
    "name": "ipython",
    "version": 3
   },
   "file_extension": ".py",
   "mimetype": "text/x-python",
   "name": "python",
   "nbconvert_exporter": "python",
   "pygments_lexer": "ipython3",
   "version": "3.7.0"
  }
 },
 "nbformat": 4,
 "nbformat_minor": 2
}
