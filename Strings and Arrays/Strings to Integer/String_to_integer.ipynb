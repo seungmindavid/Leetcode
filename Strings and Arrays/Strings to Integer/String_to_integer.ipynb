{
 "cells": [
  {
   "cell_type": "markdown",
   "metadata": {},
   "source": [
    "Runtime: 37 ms"
   ]
  },
  {
   "cell_type": "code",
   "execution_count": null,
   "metadata": {},
   "outputs": [],
   "source": [
    "class Solution:\n",
    "    def myAtoi(self, s: str) -> int:\n",
    "        i, sign, res = 0, 1, \"\"\n",
    "        for i in range(0, len(s)):\n",
    "            if s[i] == ' ': i+=1\n",
    "            else: break\n",
    "\n",
    "        if i < len(s) and s[i] in '-+':\n",
    "            sign = -1 if s[i] == '-' else 1\n",
    "            i+=1\n",
    "        while i < len(s) and s[i].isdigit():\n",
    "            res, i = res + s[i], i+1\n",
    "        return max(-2**31, min(sign * int(res or 0), 2**31 - 1))\n"
   ]
  },
  {
   "cell_type": "markdown",
   "metadata": {},
   "source": [
    "# Wrong Answer\n",
    "1086 / 1088 testcases passed\n",
    "\n",
    "Runtime: 63 ms\n"
   ]
  },
  {
   "cell_type": "code",
   "execution_count": 157,
   "metadata": {},
   "outputs": [],
   "source": [
    "import re\n",
    "\n",
    "class Solution:\n",
    "    def myAtoi(self, s: str) -> int:\n",
    "        res = \"\"\n",
    "        i = re.search(r\"\\d\", s.replace(\" \", \"\"))\n",
    "        sign = 1\n",
    "        if i == None:\n",
    "            return 0\n",
    "        else:\n",
    "            i = i.start()\n",
    "        if i > 1:\n",
    "            return 0\n",
    "        \n",
    "        i = re.search(r\"\\d\", s).start()\n",
    "        print(s)\n",
    "\n",
    "        if i != 0 and s[i-1] not in '-+ ': return 0\n",
    "        \n",
    "        if i != 0 and s[i-1] in '-+': sign = -1 if s[i-1] == '-' else 1\n",
    "        \n",
    "        for ind in range(i, len(s)):\n",
    "            if s[ind].isdigit():\n",
    "                res += s[ind]\n",
    "            else: break\n",
    "        \n",
    "        return max( -2**31, min( sign * int(res), 2**31 - 1 ) )\n",
    "\n",
    "        \n",
    "\n",
    "\n",
    "\n",
    "        "
   ]
  },
  {
   "cell_type": "markdown",
   "metadata": {},
   "source": []
  },
  {
   "cell_type": "code",
   "execution_count": null,
   "metadata": {},
   "outputs": [],
   "source": []
  }
 ],
 "metadata": {
  "kernelspec": {
   "display_name": "Python 3",
   "language": "python",
   "name": "python3"
  },
  "language_info": {
   "codemirror_mode": {
    "name": "ipython",
    "version": 3
   },
   "file_extension": ".py",
   "mimetype": "text/x-python",
   "name": "python",
   "nbconvert_exporter": "python",
   "pygments_lexer": "ipython3",
   "version": "3.7.0"
  }
 },
 "nbformat": 4,
 "nbformat_minor": 2
}
