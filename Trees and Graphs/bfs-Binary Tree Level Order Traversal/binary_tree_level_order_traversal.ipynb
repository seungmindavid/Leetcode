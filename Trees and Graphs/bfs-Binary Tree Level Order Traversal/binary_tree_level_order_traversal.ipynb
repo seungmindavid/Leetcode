{
 "cells": [
  {
   "cell_type": "code",
   "execution_count": null,
   "metadata": {},
   "outputs": [],
   "source": []
  },
  {
   "cell_type": "markdown",
   "metadata": {},
   "source": [
    "## Binary Tree Level Order Traversal\n",
    "\n",
    "Given the root of a binary tree, return the level order traversal of its nodes' values. (i.e., from left to right, level by level).\n",
    "\n",
    "\n",
    "Runtime: 41 ms, Memory Usage: 17.3 MB"
   ]
  },
  {
   "cell_type": "markdown",
   "metadata": {},
   "source": []
  },
  {
   "cell_type": "code",
   "execution_count": 1,
   "metadata": {},
   "outputs": [],
   "source": [
    "# Definition for a binary tree node.\n",
    "class TreeNode:\n",
    "    def __init__(self, val=0, left=None, right=None):\n",
    "        self.val = val\n",
    "        self.left = left\n",
    "        self.right = right\n",
    "\n",
    "class Solution:\n",
    "    def levelOrder(self, root):\n",
    "        if not root:\n",
    "            return []\n",
    "        out = []\n",
    "        \n",
    "        def bfs(node, level):\n",
    "            # base case\n",
    "            if len(out) == level:\n",
    "                out.append([])\n",
    "\n",
    "            out[level].append(node.val)\n",
    "            if node.left:\n",
    "                bfs(node.left, level+1)\n",
    "            if node.right:\n",
    "                bfs(node.right, level+1)\n",
    "                \n",
    "        bfs(root, 0)\n",
    "        return out\n",
    "    \n",
    "    from collections import deque\n",
    "\n",
    "    def iterativeLevelOrder(self, root):\n",
    "        if not root:\n",
    "            return []\n",
    "        out = []\n",
    "        level = 0\n",
    "        Q = deque([root])\n",
    "\n",
    "        while Q:\n",
    "            size = len(Q)\n",
    "            out.append([])\n",
    "            for i in range(size):\n",
    "                node = Q.popleft()\n",
    "                out[level].append(node.val)\n",
    "\n",
    "                if node.left:\n",
    "                    Q.append(node.left)\n",
    "                if node.right:\n",
    "                    Q.append(node.right)\n",
    "            level += 1\n",
    "\n",
    "        return out\n",
    "\n",
    "\n"
   ]
  },
  {
   "cell_type": "code",
   "execution_count": null,
   "metadata": {},
   "outputs": [],
   "source": []
  }
 ],
 "metadata": {
  "kernelspec": {
   "display_name": "Python 3",
   "language": "python",
   "name": "python3"
  },
  "language_info": {
   "codemirror_mode": {
    "name": "ipython",
    "version": 3
   },
   "file_extension": ".py",
   "mimetype": "text/x-python",
   "name": "python",
   "nbconvert_exporter": "python",
   "pygments_lexer": "ipython3",
   "version": "3.7.0"
  }
 },
 "nbformat": 4,
 "nbformat_minor": 2
}
