{
 "cells": [
  {
   "cell_type": "markdown",
   "metadata": {},
   "source": [
    "## Binary Tree Inorder Traversal\n",
    "\n",
    "Given the root of a binary tree, return the inorder traversal of its nodes' values.\n",
    "\n",
    "Runtime: 34 ms, Memory Usage: 16.43 MB"
   ]
  },
  {
   "cell_type": "code",
   "execution_count": null,
   "metadata": {},
   "outputs": [],
   "source": [
    "# Definition for a binary tree node.\n",
    "class TreeNode:\n",
    "    def __init__(self, val=0, left=None, right=None):\n",
    "        self.val = val\n",
    "        self.left = left\n",
    "        self.right = right\n",
    "        \n",
    "class Solution:\n",
    "    def inorderTraversal(self, root: TreeNode):\n",
    "        out = []\n",
    "        def traverse(node: TreeNode):\n",
    "            if not node:\n",
    "                return None\n",
    "            traverse(node.left)\n",
    "            out.append(node.val)\n",
    "            traverse(node.right)\n",
    "        traverse(root)\n",
    "        return out\n"
   ]
  }
 ],
 "metadata": {
  "language_info": {
   "name": "python"
  }
 },
 "nbformat": 4,
 "nbformat_minor": 2
}
