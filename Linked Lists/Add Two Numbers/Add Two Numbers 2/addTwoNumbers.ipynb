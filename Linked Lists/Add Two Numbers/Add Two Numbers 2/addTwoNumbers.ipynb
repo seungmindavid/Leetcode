{
 "cells": [
  {
   "cell_type": "markdown",
   "metadata": {},
   "source": [
    "## Add Two Numbers 2\n",
    "You are given two non-empty linked lists representing two non-negative integers. The most significant digit comes first and each of their nodes contains a single digit. Add the two numbers and return the sum as a linked list.\n",
    "\n",
    "You may assume the two numbers do not contain any leading zero, except the number 0 itself.\n",
    "\n",
    "Runtime: 62 ms (O(n))\n",
    "\n",
    "Memory Usage: 16.7 MB (O(n))"
   ]
  },
  {
   "cell_type": "code",
   "execution_count": 1,
   "metadata": {},
   "outputs": [],
   "source": [
    "class ListNode():\n",
    "    def __init__(self, x):\n",
    "        self.val = x\n",
    "        self.next = None\n"
   ]
  },
  {
   "cell_type": "code",
   "execution_count": 2,
   "metadata": {},
   "outputs": [],
   "source": [
    "\n",
    "class Solution:\n",
    "    def addTwoNumbers(self, l1, l2):\n",
    "        l1_digit, l2_digit = '', ''\n",
    "        curr = l1\n",
    "        \n",
    "        while curr:\n",
    "            l1_digit += str(curr.val)\n",
    "            curr = curr.next\n",
    "        \n",
    "        curr = l2\n",
    "        while curr:\n",
    "            l2_digit += str(curr.val)\n",
    "            curr = curr.next\n",
    "        \n",
    "        sums = str(int(l1_digit) + int(l2_digit))\n",
    "        head = ListNode(0)\n",
    "        tail = head\n",
    "        \n",
    "        for val in sums:\n",
    "            newNode = ListNode(int(val))\n",
    "            tail.next = newNode\n",
    "            tail = tail.next\n",
    "        \n",
    "        return head.next"
   ]
  },
  {
   "cell_type": "markdown",
   "metadata": {},
   "source": []
  }
 ],
 "metadata": {
  "kernelspec": {
   "display_name": "Python 3",
   "language": "python",
   "name": "python3"
  },
  "language_info": {
   "codemirror_mode": {
    "name": "ipython",
    "version": 3
   },
   "file_extension": ".py",
   "mimetype": "text/x-python",
   "name": "python",
   "nbconvert_exporter": "python",
   "pygments_lexer": "ipython3",
   "version": "3.7.0"
  }
 },
 "nbformat": 4,
 "nbformat_minor": 2
}
