{
 "cells": [
  {
   "cell_type": "markdown",
   "metadata": {},
   "source": [
    "Linked List Cycle\n",
    "\n",
    "Given head, the head of a linked list, determine if the linked list has a cycle in it.\n",
    "\n",
    "There is a cycle in a linked list if there is some node in the list that can be reached again by continuously following the next pointer. Internally, pos is used to denote the index of the node that tail's next pointer is connected to. Note that pos is not passed as a parameter.\n",
    "\n",
    "Return true if there is a cycle in the linked list. Otherwise, return false.\n",
    "\n",
    "Runtime: 53 ms\n",
    "Memory Usage: 19.5 MB"
   ]
  },
  {
   "cell_type": "code",
   "execution_count": null,
   "metadata": {},
   "outputs": [],
   "source": [
    "# Definition for singly-linked list.\n",
    "# class ListNode:\n",
    "#     def __init__(self, x):\n",
    "#         self.val = x\n",
    "#         self.next = None\n",
    "\n",
    "class Solution:\n",
    "    def hasCycle(self, head) -> bool:\n",
    "        if not head or not head.next:\n",
    "            return False\n",
    "        visited = set()\n",
    "        curr = head\n",
    "        while curr:\n",
    "            if curr in visited:\n",
    "                return True\n",
    "            visited.add(curr)\n",
    "            curr = curr.next\n",
    "        return False"
   ]
  }
 ],
 "metadata": {
  "kernelspec": {
   "display_name": "Python 3",
   "language": "python",
   "name": "python3"
  },
  "language_info": {
   "name": "python",
   "version": "3.7.0"
  }
 },
 "nbformat": 4,
 "nbformat_minor": 2
}
